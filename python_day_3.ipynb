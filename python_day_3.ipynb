{
  "nbformat": 4,
  "nbformat_minor": 0,
  "metadata": {
    "colab": {
      "name": "python day 3.ipynb",
      "provenance": [],
      "collapsed_sections": [],
      "authorship_tag": "ABX9TyM24Qa8A/wgl5CaeyV338Tj",
      "include_colab_link": true
    },
    "kernelspec": {
      "name": "python3",
      "display_name": "Python 3"
    }
  },
  "cells": [
    {
      "cell_type": "markdown",
      "metadata": {
        "id": "view-in-github",
        "colab_type": "text"
      },
      "source": [
        "<a href=\"https://colab.research.google.com/github/devipri/python-day-3/blob/master/python_day_3.ipynb\" target=\"_parent\"><img src=\"https://colab.research.google.com/assets/colab-badge.svg\" alt=\"Open In Colab\"/></a>"
      ]
    },
    {
      "cell_type": "code",
      "metadata": {
        "id": "JM4R7UXiu7gk",
        "colab_type": "code",
        "colab": {
          "base_uri": "https://localhost:8080/",
          "height": 153
        },
        "outputId": "5dccd64e-ed1e-47ee-a225-9ea39aa9fc79"
      },
      "source": [
        "## ASSIGNMENT QN.NO.1 \n",
        "## SUM OF 'N' NUMBERS WITH THE HELP OF WHILE LOOP\n",
        "\n",
        "print(\"THE SUM OF 'n' NUMBERS :\")\n",
        "sum=0\n",
        "i=1\n",
        "n = eval(input(\"Enter the n value:\"))\n",
        "while i<=n:\n",
        "  sum=sum+i\n",
        "  print(i,\"-->\",sum)\n",
        "  i=i+1\n",
        "\n",
        "\n",
        "print(\"THE SUM OF\",n,\"NUMBER IS:\", sum)"
      ],
      "execution_count": 1,
      "outputs": [
        {
          "output_type": "stream",
          "text": [
            "THE SUM OF 'n' NUMBERS :\n",
            "Enter the n value:5\n",
            "1 --> 1\n",
            "2 --> 3\n",
            "3 --> 6\n",
            "4 --> 10\n",
            "5 --> 15\n",
            "THE SUM OF 5 NUMBER IS: 15\n"
          ],
          "name": "stdout"
        }
      ]
    },
    {
      "cell_type": "code",
      "metadata": {
        "id": "i-hbCiQ2vJBF",
        "colab_type": "code",
        "colab": {
          "base_uri": "https://localhost:8080/",
          "height": 68
        },
        "outputId": "cd026b98-9478-4423-c913-68cd64429fd8"
      },
      "source": [
        "## ASSIGNMENT QN.NO.2O \n",
        "## TO FIND A NUMBER IS PRIME OR NOT\n",
        "\n",
        "print(\"TO FIND A NUMBER IS PRIME OR NOT\")\n",
        "n=eval(input(\"Enter a number:\"))\n",
        "if n==1 or n==0:\n",
        "  print(n,\"is not a prime number!\")\n",
        "else:\n",
        "  for each in range(2,n):\n",
        "    if n % each != 0:\n",
        "      print(\"Number\",n,\"is a prime number\")\n",
        "      break\n",
        "    else:\n",
        "      print(\"Number\",n,\"is not a prime number\")\n",
        "      break"
      ],
      "execution_count": 2,
      "outputs": [
        {
          "output_type": "stream",
          "text": [
            "TO FIND A NUMBER IS PRIME OR NOT\n",
            "Enter a number:5\n",
            "Number 5 is a prime number\n"
          ],
          "name": "stdout"
        }
      ]
    }
  ]
}